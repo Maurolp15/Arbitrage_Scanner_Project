{
 "cells": [
  {
   "cell_type": "code",
   "execution_count": 1,
   "id": "ac9d2272-59ff-4d35-ae2b-b2e1c091f509",
   "metadata": {},
   "outputs": [],
   "source": [
    "import csv    "
   ]
  },
  {
   "cell_type": "code",
   "execution_count": 2,
   "id": "4c675c81-323e-4204-a0ec-144bef9e723c",
   "metadata": {},
   "outputs": [],
   "source": [
    "data =[]\n",
    "with open(\"data.csv\", 'r') as table:\n",
    "    for row in table:\n",
    "        data.append(row[0:8]+\n",
    "        row[33:59] + \n",
    "        row[12:19] + \n",
    "        row[70:100] +  \n",
    "        row[-20:-14]) "
   ]
  },
  {
   "cell_type": "code",
   "execution_count": 3,
   "id": "a7a31b37-210f-484c-bad7-4073f8a80a4a",
   "metadata": {},
   "outputs": [
    {
     "data": {
      "text/plain": [
       "[\"KNC/USDT'buy_price_wei': 0.443025,UNISWAPe_wei': 0.050602846022302805}, KYBER\",\n",
       " \"KNC/LINK'buy_price_wei': 0.0584236UNISWAP 'sell_price_wei': 0.038317759 KYBER\",\n",
       " \"LINK/WBT{'buy_price_wei': 0.000126'UNISWArice_wei': 2.826171476852383e- KYBER\",\n",
       " \"KNC/MKR,buy_price_wei': 5956056.95NISWAPBll_price_wei': 4284182.6604700 KYBER\",\n",
       " \"MKR/KNC,buy_price_wei': 1.40097598NISWAPBell_price_wei': 1.392582655475NISWAP\",\n",
       " \"USDC/BNT'buy_price_wei': 0.2123499UNISWAP 'sell_price_wei': 0.167881109 KYBER\",\n",
       " \"TUSD/DAI'buy_price_wei': 0.5723710UNISWAP'sell_price_wei': 0.2974829460 KYBER\",\n",
       " \"LINK/KNC'buy_price_wei': 3.0038666UNISWAP'sell_price_wei': 0.3735628753 KYBER\",\n",
       " \"LINK/BNT'buy_price_wei': 3.7105817UNISWAP'sell_price_wei': 2.4453505780 KYBER\",\n",
       " \"DAI/BNT,buy_price_wei': 0.24414724NISWAPB'sell_price_wei': 0.2140388553 KYBER\",\n",
       " \"DAI/TUSD'buy_price_wei': 0.7708557UNISWAP'sell_price_wei': 0.3664491523 KYBER\",\n",
       " \"ETH/TUSD'buy_price_wei': 2742.8518UNISWAP'sell_price_wei': 2078.4488741 KYBER\",\n",
       " \"USDC/KNC'buy_price_wei': 0.2766912UNISWAP'sell_price_wei': 0.2588081550 KYBER\",\n",
       " \"USDT/MKR'buy_price_wei': 4143903.7UNISWAPell_price_wei': 4101685.667322 KYBER\",\n",
       " \"BNT/LINK'buy_price_wei': 0.2024936UNISWAP 'sell_price_wei': 0.181518970NISWAP\",\n",
       " \"USDT/LIN{'buy_price_wei': 0.058810'UNISWA, 'sell_price_wei': 0.05816941 KYBER\",\n",
       " \"WBTC/DAI'buy_price_wei': 37514.807UNISWAPsell_price_wei': 28011.8528214 KYBER\",\n",
       " \"LINK/DAI'buy_price_wei': 16.741919UNISWAP'sell_price_wei': 16.399523385NISWAP\",\n",
       " \"USDT/BAT'buy_price_wei': 1.2055693UNISWAP'sell_price_wei': 1.1928482239 KYBER\",\n",
       " \"KNC/DAI,buy_price_wei': 2.84004539NISWAPBsell_price_wei': 2.57040139878 KYBER\",\n",
       " \"BAT/USDT'buy_price_wei': 0.821052,UNISWAPe_wei': 0.8130411563716198}, 'NISWAP\",\n",
       " \"BAT/LINK'buy_price_wei': 0.0467956UNISWAP, 'sell_price_wei': 0.04601419 KYBER\",\n",
       " \"DAI/BAT,buy_price_wei': 1.36650335NISWAPBell_price_wei': 1.348238037747NISWAP\",\n",
       " \"BAT/DAI,buy_price_wei': 0.72273131NISWAPBsell_price_wei': 0.71451895145 KYBER\",\n",
       " \"LINK/BAT'buy_price_wei': 18.937895UNISWAP'sell_price_wei': 15.294918734 KYBER\",\n",
       " \"USDC/BAT'buy_price_wei': 1.2220163UNISWAP'sell_price_wei': 1.1868186355 KYBER\",\n",
       " \"DAI/WBTC'buy_price_wei': 2.272e-05UNISWAPce_wei': 2.2576908953973722e-0NISWAP\",\n",
       " \"USDC/WBT{'buy_price_wei': 2.27e-05'UNISWAce_wei': 2.25577391e-05}, 'KYBNISWAP\",\n",
       " \"WBTC/USD{'buy_price_wei': 40177.70'UNISWA_price_wei': 33876.65815089032 KYBER\",\n",
       " \"ETH/BNT,buy_price_wei': 1229.84282NISWAPBsell_price_wei': 1166.12445262 KYBER\",\n",
       " \"MKR/DAI,buy_price_wei': 2.12101713NISWAPBell_price_wei': 2.108310103165NISWAP\",\n",
       " \"BAT/USDC'buy_price_wei': 0.796407,UNISWAPe_wei': 0.7769199406913677}, 'NISWAP\",\n",
       " \"DAI/MKR,buy_price_wei': 4644706.46NISWAPBll_price_wei': 4535434.1203182 KYBER\",\n",
       " \"LINK/ETH'buy_price_wei': 0.0048091UNISWAP, 'sell_price_wei': 0.00478029 KYBER\",\n",
       " \"DAI/USDT'buy_price_wei': 0.995254,UNISWAPe_wei': 0.989290483886263}, 'K KYBER\",\n",
       " \"KNC/USDT'buy_price_wei': 0.443025,UNISWAPe_wei': 0.050602846022302805}, KYBER\",\n",
       " \"KNC/LINK'buy_price_wei': 0.0584236UNISWAP 'sell_price_wei': 0.038317759 KYBER\",\n",
       " \"LINK/WBT{'buy_price_wei': 0.000126'UNISWArice_wei': 2.826171476852383e- KYBER\",\n",
       " \"KNC/MKR,buy_price_wei': 5956056.95NISWAPBll_price_wei': 4284182.6604700 KYBER\",\n",
       " \"MKR/KNC,buy_price_wei': 1.40097598NISWAPBell_price_wei': 1.392582655475NISWAP\",\n",
       " \"USDC/BNT'buy_price_wei': 0.2123499UNISWAP 'sell_price_wei': 0.167881109 KYBER\",\n",
       " \"TUSD/DAI'buy_price_wei': 0.5723710UNISWAP'sell_price_wei': 0.2974829460 KYBER\",\n",
       " \"LINK/KNC'buy_price_wei': 3.0038666UNISWAP'sell_price_wei': 0.3735628753 KYBER\",\n",
       " \"LINK/BNT'buy_price_wei': 3.7105817UNISWAP'sell_price_wei': 2.4453505780 KYBER\",\n",
       " \"DAI/BNT,buy_price_wei': 0.24414724NISWAPB'sell_price_wei': 0.2140388553 KYBER\",\n",
       " \"DAI/TUSD'buy_price_wei': 0.7708557UNISWAP'sell_price_wei': 0.3664491523 KYBER\",\n",
       " \"ETH/TUSD'buy_price_wei': 2742.8518UNISWAP'sell_price_wei': 2078.4488741 KYBER\",\n",
       " \"USDC/KNC'buy_price_wei': 0.2766912UNISWAP'sell_price_wei': 0.2588081550 KYBER\",\n",
       " \"USDT/MKR'buy_price_wei': 4143903.7UNISWAPell_price_wei': 4101685.667322 KYBER\",\n",
       " \"BNT/LINK'buy_price_wei': 0.2024936UNISWAP 'sell_price_wei': 0.181518970NISWAP\",\n",
       " \"USDT/LIN{'buy_price_wei': 0.058810'UNISWA, 'sell_price_wei': 0.05816941 KYBER\",\n",
       " \"WBTC/DAI'buy_price_wei': 37514.807UNISWAPsell_price_wei': 28011.8528214 KYBER\",\n",
       " \"LINK/DAI'buy_price_wei': 16.741919UNISWAP'sell_price_wei': 16.399523385NISWAP\",\n",
       " \"USDT/BAT'buy_price_wei': 1.2055693UNISWAP'sell_price_wei': 1.1928482239 KYBER\",\n",
       " \"KNC/DAI,buy_price_wei': 2.84004539NISWAPBsell_price_wei': 2.57040139878 KYBER\",\n",
       " \"BAT/USDT'buy_price_wei': 0.821052,UNISWAPe_wei': 0.8130411563716198}, 'NISWAP\",\n",
       " \"BAT/LINK'buy_price_wei': 0.0467956UNISWAP, 'sell_price_wei': 0.04601419 KYBER\",\n",
       " \"DAI/BAT,buy_price_wei': 1.36650335NISWAPBell_price_wei': 1.348238037747NISWAP\",\n",
       " \"BAT/DAI,buy_price_wei': 0.72273131NISWAPBsell_price_wei': 0.71451895145 KYBER\",\n",
       " \"LINK/BAT'buy_price_wei': 18.937895UNISWAP'sell_price_wei': 15.294918734 KYBER\",\n",
       " \"USDC/BAT'buy_price_wei': 1.2220163UNISWAP'sell_price_wei': 1.1868186355 KYBER\",\n",
       " \"DAI/WBTC'buy_price_wei': 2.272e-05UNISWAPce_wei': 2.2576908953973722e-0NISWAP\",\n",
       " \"USDC/WBT{'buy_price_wei': 2.27e-05'UNISWAce_wei': 2.25577391e-05}, 'KYBNISWAP\",\n",
       " \"WBTC/USD{'buy_price_wei': 40177.70'UNISWA_price_wei': 33876.65815089032 KYBER\",\n",
       " \"ETH/BNT,buy_price_wei': 1229.84282NISWAPBsell_price_wei': 1166.12445262 KYBER\",\n",
       " \"MKR/DAI,buy_price_wei': 2.12101713NISWAPBell_price_wei': 2.108310103165NISWAP\",\n",
       " \"BAT/USDC'buy_price_wei': 0.796407,UNISWAPe_wei': 0.7769199406913677}, 'NISWAP\",\n",
       " \"DAI/MKR,buy_price_wei': 4644706.46NISWAPBll_price_wei': 4535434.1203182 KYBER\",\n",
       " \"LINK/ETH'buy_price_wei': 0.0048091UNISWAP, 'sell_price_wei': 0.00478029 KYBER\",\n",
       " \"DAI/USDT'buy_price_wei': 0.995254,UNISWAPe_wei': 0.989290483886263}, 'K KYBER\"]"
      ]
     },
     "execution_count": 3,
     "metadata": {},
     "output_type": "execute_result"
    }
   ],
   "source": [
    "data"
   ]
  },
  {
   "cell_type": "code",
   "execution_count": 4,
   "id": "8699d8ff-8e44-435e-851b-f3b414c55eb8",
   "metadata": {},
   "outputs": [
    {
     "data": {
      "text/plain": [
       "\"KNC/USDT'buy_price_wei': 0.443025,UNISWAPe_wei': 0.050602846022302805}, KYBER\""
      ]
     },
     "execution_count": 4,
     "metadata": {},
     "output_type": "execute_result"
    }
   ],
   "source": [
    "data[0]"
   ]
  },
  {
   "cell_type": "code",
   "execution_count": 7,
   "id": "7b683051-3f3d-4589-b54c-9cf639c7419f",
   "metadata": {},
   "outputs": [],
   "source": [
    "with open('options.csv', 'w') as f: \n",
    "    write = csv.writer(f) \n",
    "    write.writerow(data) "
   ]
  },
  {
   "cell_type": "code",
   "execution_count": null,
   "id": "811a143c-d92a-4143-b47e-05e1c2ce8c8d",
   "metadata": {},
   "outputs": [],
   "source": []
  }
 ],
 "metadata": {
  "kernelspec": {
   "display_name": "Python 3",
   "language": "python",
   "name": "python3"
  },
  "language_info": {
   "codemirror_mode": {
    "name": "ipython",
    "version": 3
   },
   "file_extension": ".py",
   "mimetype": "text/x-python",
   "name": "python",
   "nbconvert_exporter": "python",
   "pygments_lexer": "ipython3",
   "version": "3.7.10"
  }
 },
 "nbformat": 4,
 "nbformat_minor": 5
}
